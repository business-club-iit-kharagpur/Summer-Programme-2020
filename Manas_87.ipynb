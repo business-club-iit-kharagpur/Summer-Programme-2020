{
 "cells": [
  {
   "cell_type": "code",
   "execution_count": 281,
   "metadata": {},
   "outputs": [],
   "source": [
    "import pandas as pd\n",
    "import numpy as np\n",
    "import seaborn as sns"
   ]
  },
  {
   "cell_type": "code",
   "execution_count": 282,
   "metadata": {},
   "outputs": [],
   "source": [
    "train = pd.read_csv('Trainfile.csv')\n",
    "test = pd.read_csv('Testfile.csv')"
   ]
  },
  {
   "cell_type": "code",
   "execution_count": 283,
   "metadata": {},
   "outputs": [],
   "source": [
    "#REMOVING COLUMNS THAT HAVE NULL VALUES\n",
    "Null_cols = train.isnull().any() \n",
    "remove = Null_cols[Null_cols].index\n",
    "train = train.drop(remove,axis=1)\n",
    "test = test.drop(remove,axis=1)"
   ]
  },
  {
   "cell_type": "code",
   "execution_count": 284,
   "metadata": {},
   "outputs": [],
   "source": [
    "X_train = train.drop(['SalePrice'],axis=1)\n",
    "Y_train = train.iloc[:,-1]\n",
    "X_test = test.drop(['SalePrice'],axis=1)\n",
    "Y_test = test.iloc[:,-1]"
   ]
  },
  {
   "cell_type": "code",
   "execution_count": 285,
   "metadata": {},
   "outputs": [
    {
     "name": "stdout",
     "output_type": "stream",
     "text": [
      "Categorical variables:\n",
      "['MSZoning', 'Street', 'LotShape', 'LandContour', 'Utilities', 'LotConfig', 'LandSlope', 'Neighborhood', 'Condition1', 'Condition2', 'BldgType', 'HouseStyle', 'RoofStyle', 'RoofMatl', 'Exterior1st', 'Exterior2nd', 'ExterQual', 'ExterCond', 'Foundation', 'Heating', 'HeatingQC', 'CentralAir', 'KitchenQual', 'Functional', 'PavedDrive', 'SaleType', 'SaleCondition']\n"
     ]
    }
   ],
   "source": [
    "s = (X_train.dtypes == 'object')\n",
    "categorical = list(s[s].index)\n",
    "print(\"Categorical variables:\")\n",
    "print(categorical)"
   ]
  },
  {
   "cell_type": "code",
   "execution_count": 286,
   "metadata": {},
   "outputs": [],
   "source": [
    "X_trc = X_train[categorical]\n",
    "X_trn = X_train.drop(['MSZoning', 'Street', 'LotShape', 'LandContour', 'Utilities', 'LotConfig', 'LandSlope', 'Neighborhood', 'Condition1', 'Condition2', 'BldgType', 'HouseStyle', 'RoofStyle', 'RoofMatl', 'Exterior1st', 'Exterior2nd', 'ExterQual', 'ExterCond', 'Foundation', 'Heating', 'HeatingQC', 'CentralAir', 'KitchenQual', 'Functional', 'PavedDrive', 'SaleType', 'SaleCondition'],axis=1)\n",
    "X_tec = X_test[categorical]\n",
    "X_ten = X_test.drop(['MSZoning', 'Street', 'LotShape', 'LandContour', 'Utilities', 'LotConfig', 'LandSlope', 'Neighborhood', 'Condition1', 'Condition2', 'BldgType', 'HouseStyle', 'RoofStyle', 'RoofMatl', 'Exterior1st', 'Exterior2nd', 'ExterQual', 'ExterCond', 'Foundation', 'Heating', 'HeatingQC', 'CentralAir', 'KitchenQual', 'Functional', 'PavedDrive', 'SaleType', 'SaleCondition'],axis=1)\n"
   ]
  },
  {
   "cell_type": "code",
   "execution_count": 287,
   "metadata": {},
   "outputs": [],
   "source": [
    "#ONE HOT ENCODING\n",
    "from sklearn.preprocessing import OneHotEncoder\n",
    "OH_encoder = OneHotEncoder(handle_unknown='ignore', sparse=False)\n",
    "OH_cols_train = pd.DataFrame(OH_encoder.fit_transform(X_trc[categorical]))\n",
    "OH_cols_test = pd.DataFrame(OH_encoder.transform(X_tec[categorical]))    \n",
    "\n"
   ]
  },
  {
   "cell_type": "code",
   "execution_count": 305,
   "metadata": {},
   "outputs": [
    {
     "name": "stdout",
     "output_type": "stream",
     "text": [
      "Index([ 'LotFrontage',  'OverallQual',    'YearBuilt', 'YearRemodAdd',\n",
      "         'MasVnrArea',   'BsmtFinSF1',  'TotalBsmtSF',     '1stFlrSF',\n",
      "           '2ndFlrSF',    'GrLivArea',     'FullBath', 'TotRmsAbvGrd',\n",
      "         'Fireplaces',  'GarageYrBlt',   'GarageCars',   'GarageArea',\n",
      "         'WoodDeckSF',  'OpenPorchSF',             40,             41,\n",
      "                   99,            105,            106,            108,\n",
      "                  112,            116,            130,            146,\n",
      "                  158,            160,            175,            203,\n",
      "          'SalePrice'],\n",
      "      dtype='object')\n"
     ]
    },
    {
     "data": {
      "text/plain": [
       "Index([         'Idx',   'MSSubClass',      'LotArea',  'OverallQual',\n",
       "        'OverallCond',    'YearBuilt', 'YearRemodAdd',   'BsmtFinSF1',\n",
       "         'BsmtFinSF2',    'BsmtUnfSF',\n",
       "       ...\n",
       "                  166,            167,            168,            169,\n",
       "                  170,            171,            172,            173,\n",
       "                  174,    'SalePrice'],\n",
       "      dtype='object', length=210)"
      ]
     },
     "execution_count": 305,
     "metadata": {},
     "output_type": "execute_result"
    }
   ],
   "source": [
    "X_train1 = pd.concat([X_trn,OH_cols_train],axis=1)\n",
    "X_train1 = pd.concat([X_train1,Y_train],axis=1)\n",
    "X_test1 = pd.concat([X_ten,OH_cols_test],axis=1)\n",
    "\n",
    "#CORRELATION MATRIX\n",
    "cor_mat = X_train1.corr()\n",
    "feature=cor['SalePrice']>0.3\n",
    "print(feature[feature].index)\n",
    "X_train1.columns"
   ]
  },
  {
   "cell_type": "code",
   "execution_count": 309,
   "metadata": {},
   "outputs": [],
   "source": [
    "\n",
    "X_1=X_train1[[   'OverallQual',    'YearBuilt', 'YearRemodAdd',\n",
    "           'BsmtFinSF1',  'TotalBsmtSF',     '1stFlrSF',\n",
    "           '2ndFlrSF',    'GrLivArea',     'FullBath', 'TotRmsAbvGrd',\n",
    "         'Fireplaces',    'GarageCars',   'GarageArea',\n",
    "         'WoodDeckSF',  'OpenPorchSF',             40,             41,\n",
    "                   99,            105,            106,            108,\n",
    "                  112,            116,            130,            146,\n",
    "                  158,            160 ]]\n",
    "X_2=X_test1[[ 'OverallQual',    'YearBuilt', 'YearRemodAdd',\n",
    "           'BsmtFinSF1',  'TotalBsmtSF',     '1stFlrSF',\n",
    "           '2ndFlrSF',    'GrLivArea',     'FullBath', 'TotRmsAbvGrd',\n",
    "         'Fireplaces',    'GarageCars',   'GarageArea',\n",
    "         'WoodDeckSF',  'OpenPorchSF',             40,             41,\n",
    "                   99,            105,            106,            108,\n",
    "                  112,            116,            130,            146,\n",
    "                  158,            160 ]]"
   ]
  },
  {
   "cell_type": "code",
   "execution_count": 310,
   "metadata": {},
   "outputs": [
    {
     "name": "stdout",
     "output_type": "stream",
     "text": [
      "[ 1.85537714e+04 -1.81736376e+02  1.45793631e+02  1.60177599e+01\n",
      "  1.09353630e+01  3.18525251e+01  3.17927882e+01  8.89612477e+00\n",
      "  3.36675245e+03  7.44182209e+01  6.83799909e+03  1.31598372e+04\n",
      "  8.63015234e+00  3.70226001e+01  8.40865357e+00  4.38308281e+04\n",
      " -2.05428333e+04 -1.18106400e+03  5.28915334e+03 -2.32124788e+04\n",
      "  4.75190823e+03 -9.47176831e+02 -2.50580633e+04  1.12041646e+04\n",
      "  6.69982283e+03 -3.26265380e+03  3.22997841e+03]\n"
     ]
    }
   ],
   "source": [
    "#LINEAR REGRESSION ALGORITHM\n",
    "XT = X_1.transpose()\n",
    "XTxX = (XT@X_1)\n",
    "XTxX_inv = np.linalg.inv(XTxX)\n",
    "XTxY=XT@Y_train\n",
    "para=XTxX_inv @ XTxY\n",
    "print(para)\n",
    "result = np.dot(para.transpose(),X_2.transpose())"
   ]
  },
  {
   "cell_type": "code",
   "execution_count": 311,
   "metadata": {},
   "outputs": [],
   "source": [
    "#MAPE\n",
    "def mape(prov,pred): \n",
    "    return np.mean(np.abs((prov - pred) / prov)) * 100"
   ]
  },
  {
   "cell_type": "code",
   "execution_count": 312,
   "metadata": {},
   "outputs": [
    {
     "name": "stdout",
     "output_type": "stream",
     "text": [
      "The error is:\n",
      "12.826029124592722\n"
     ]
    }
   ],
   "source": [
    "mape = mape(Y_test,result)\n",
    "print(\"The error is:\")\n",
    "print(mape)"
   ]
  },
  {
   "cell_type": "code",
   "execution_count": null,
   "metadata": {},
   "outputs": [],
   "source": []
  },
  {
   "cell_type": "code",
   "execution_count": null,
   "metadata": {},
   "outputs": [],
   "source": []
  }
 ],
 "metadata": {
  "kernelspec": {
   "display_name": "Python 3",
   "language": "python",
   "name": "python3"
  },
  "language_info": {
   "codemirror_mode": {
    "name": "ipython",
    "version": 3
   },
   "file_extension": ".py",
   "mimetype": "text/x-python",
   "name": "python",
   "nbconvert_exporter": "python",
   "pygments_lexer": "ipython3",
   "version": "3.6.9"
  }
 },
 "nbformat": 4,
 "nbformat_minor": 4
}
